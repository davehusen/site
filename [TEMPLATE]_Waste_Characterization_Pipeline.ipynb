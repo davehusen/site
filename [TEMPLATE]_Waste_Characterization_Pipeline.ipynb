{
  "cells": [
    {
      "cell_type": "markdown",
      "metadata": {
        "id": "view-in-github",
        "colab_type": "text"
      },
      "source": [
        "<a href=\"https://colab.research.google.com/github/davehusen/site/blob/main/%5BTEMPLATE%5D_Waste_Characterization_Pipeline.ipynb\" target=\"_parent\"><img src=\"https://colab.research.google.com/assets/colab-badge.svg\" alt=\"Open In Colab\"/></a>"
      ]
    },
    {
      "cell_type": "markdown",
      "source": [
        "# How to use this notebook:\n",
        "\n",
        "1. Make a copy of this notebook\n",
        "2. Adjust the runtime variables as necessary\n",
        "2. Run the setup steps to setup the colab instance environment\n",
        "3. Execute a single run or hyperparameter sweep"
      ],
      "metadata": {
        "id": "a6HUy3nOsLyU"
      }
    },
    {
      "cell_type": "markdown",
      "source": [
        "# Runtime variables"
      ],
      "metadata": {
        "id": "f8lEQ_51sTGw"
      }
    },
    {
      "cell_type": "code",
      "source": [
        "repository_url = \"git@github.com:orange-industrial/pipeline.git\"  # Replace with your repository URL\n",
        "branch = \"dave/oi-177-add-ci-reorg-pipeline-code\" # Replace with your branch name\n",
        "pipeline = \"waste-characterization\" # Replace with your pipeline"
      ],
      "metadata": {
        "id": "ahzXNxiAsVAB"
      },
      "execution_count": 1,
      "outputs": []
    },
    {
      "cell_type": "markdown",
      "metadata": {
        "id": "dmiTXZtkCTMl"
      },
      "source": [
        "# Setup the environment"
      ]
    },
    {
      "cell_type": "code",
      "execution_count": null,
      "metadata": {
        "id": "gFkBdfuvFhqH"
      },
      "outputs": [],
      "source": [
        "!pip install wandb -qqq\n",
        "!pip install ultralytics --quiet\n",
        "!pip install roboflow"
      ]
    },
    {
      "cell_type": "code",
      "execution_count": 3,
      "metadata": {
        "id": "Hr7jr1viL6b6"
      },
      "outputs": [],
      "source": [
        "import os\n",
        "import subprocess\n",
        "import shutil\n",
        "from google.colab import drive"
      ]
    },
    {
      "cell_type": "code",
      "execution_count": null,
      "metadata": {
        "id": "KPKruvPrHqsx"
      },
      "outputs": [],
      "source": [
        "drive = drive.mount(\"/content/drive\")"
      ]
    },
    {
      "cell_type": "code",
      "execution_count": null,
      "metadata": {
        "id": "TWL8S2jZaFkA"
      },
      "outputs": [],
      "source": [
        "# Copy deploy key to instance for authentication to github repo\n",
        "\n",
        "ssh_key_path = \"/content/drive/MyDrive/Orange Industrial/Engineering/Colab Deploy Keys/\" # Set the SSH key path\n",
        "ssh_key_name = 'id_ed25519_pipeline_deploy' # Github read-only deploy key for repo at repository_url\n",
        "\n",
        "! mkdir -p /root/.ssh\n",
        "shutil.copy2(ssh_key_path+ssh_key_name, \"/root/.ssh/id_ed25519\")\n",
        "! ssh-keyscan -t rsa github.com >> ~/.ssh/known_hosts\n",
        "! chmod go-rwx /root/.ssh/\n",
        "! ssh -T git@github.com"
      ]
    },
    {
      "cell_type": "code",
      "execution_count": null,
      "metadata": {
        "id": "6ZEtaI_1C_cf"
      },
      "outputs": [],
      "source": [
        "! git clone git@github.com:orange-industrial/pipeline /content/pipeline"
      ]
    },
    {
      "cell_type": "code",
      "execution_count": null,
      "metadata": {
        "id": "gpxAJ16OCbhY"
      },
      "outputs": [],
      "source": [
        "! cd pipeline/ ; git checkout \"$branch\""
      ]
    },
    {
      "cell_type": "code",
      "execution_count": 8,
      "metadata": {
        "id": "grG1wY_4EwbT"
      },
      "outputs": [],
      "source": [
        "os.chdir(\"/content/pipeline/pipelines/\" + pipeline)"
      ]
    },
    {
      "cell_type": "markdown",
      "metadata": {
        "id": "PIsHT3hXDM74"
      },
      "source": [
        "# Run the training code"
      ]
    },
    {
      "cell_type": "markdown",
      "source": [
        "To execute a single run using `run_config.json` params:\n",
        "```\n",
        "!python main.py --rf_api_key $API_KEY\n",
        "```\n",
        "\n",
        "To execute a sweep using `sweep_config.json` params:\n",
        "```\n",
        "!python main.py --rf_api_key $API_KEY \\\n",
        "--sweep_flag True \\\n",
        "--sweep_json config/sweep_config.json\n",
        "```\n"
      ],
      "metadata": {
        "id": "u2bd3eY5HivC"
      }
    },
    {
      "cell_type": "markdown",
      "source": [
        "## Execute a single run"
      ],
      "metadata": {
        "id": "EHhAT_57NlCt"
      }
    },
    {
      "cell_type": "code",
      "source": [
        "!git pull\n",
        "!python main.py --rf_api_key DooHVuDzvvLAevjx9YIt --wandb_api_key ed9e154fbfc5ef1458bc77b312183e4cbd097648 --model_name yolov8x"
      ],
      "metadata": {
        "id": "fAP2vk-VcpnK"
      },
      "execution_count": null,
      "outputs": []
    },
    {
      "cell_type": "markdown",
      "source": [
        "### Test inference"
      ],
      "metadata": {
        "id": "kz_sgyzut7JW"
      }
    },
    {
      "cell_type": "code",
      "source": [
        "from ultralytics import YOLO\n",
        "import cv2\n",
        "from google.colab.patches import cv2_imshow"
      ],
      "metadata": {
        "id": "XDcmCqtQzf71"
      },
      "execution_count": 39,
      "outputs": []
    },
    {
      "cell_type": "code",
      "source": [
        "save_dir = \"/content/drive/MyDrive/Orange Industrial/Engineering/Models/waste-characterization-3/devout-wildflower-99\"\n",
        "model_path = \"/content/drive/MyDrive/Orange Industrial/Engineering/Models/waste-characterization-3/devout-wildflower-99/deploy_bundle/waste-characterization-devout-wildflower-99-backbone_yolov8x-epochs_100-batch_32-workers_8-lr_0.000891-20230807-213103.pt\""
      ],
      "metadata": {
        "id": "Dgo1pUgxi0SU"
      },
      "execution_count": 40,
      "outputs": []
    },
    {
      "cell_type": "code",
      "source": [
        "test_data_dir = \"/content/drive/MyDrive/Orange Industrial/Engineering/Datasets/waste-characterization-3/test/images\"\n",
        "list_of_test_files = os.listdir(test_data_dir)\n",
        "print(list_of_test_files)"
      ],
      "metadata": {
        "id": "AkZdInVvi1wF"
      },
      "execution_count": null,
      "outputs": []
    },
    {
      "cell_type": "code",
      "source": [
        "model = YOLO(model_path)"
      ],
      "metadata": {
        "id": "TtP37d7Mnk_N"
      },
      "execution_count": 44,
      "outputs": []
    },
    {
      "cell_type": "code",
      "source": [
        "img = os.path.join(test_data_dir,list_of_test_files[0])\n",
        "res = model(img)\n",
        "res_plotted = res[0].plot()\n",
        "cv2_imshow(res_plotted)"
      ],
      "metadata": {
        "id": "VKKY_7chnxM8"
      },
      "execution_count": null,
      "outputs": []
    },
    {
      "cell_type": "markdown",
      "source": [
        "## Execute a sweep"
      ],
      "metadata": {
        "id": "0tt_UaQnNtZ_"
      }
    },
    {
      "cell_type": "code",
      "source": [
        "!git pull\n",
        "!python main.py --rf_api_key DooHVuDzvvLAevjx9YIt --wandb_api_key ed9e154fbfc5ef1458bc77b312183e4cbd097648 \\\n",
        "--sweep_flag True \\\n",
        "--sweep_json config/sweep_config.json"
      ],
      "metadata": {
        "id": "xApFSj_xNsSg"
      },
      "execution_count": null,
      "outputs": []
    }
  ],
  "metadata": {
    "colab": {
      "provenance": [],
      "gpuType": "T4",
      "collapsed_sections": [
        "f8lEQ_51sTGw",
        "dmiTXZtkCTMl",
        "PIsHT3hXDM74",
        "EHhAT_57NlCt",
        "kz_sgyzut7JW",
        "0tt_UaQnNtZ_"
      ],
      "machine_shape": "hm",
      "include_colab_link": true
    },
    "kernelspec": {
      "display_name": "Python 3",
      "name": "python3"
    },
    "language_info": {
      "name": "python"
    },
    "accelerator": "GPU"
  },
  "nbformat": 4,
  "nbformat_minor": 0
}